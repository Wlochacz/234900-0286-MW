{
 "cells": [
  {
   "cell_type": "markdown",
   "metadata": {},
   "source": [
    "# Prace Domowe - Modelowanie Wieloagentowe "
   ]
  },
  {
   "cell_type": "markdown",
   "metadata": {},
   "source": [
    "Podane są polecenia, w ramach obowiązkowej pracy domowej należy wybrać i wykonać trzy z nich. Pozostałe można traktować jako dodatkowe zadania."
   ]
  },
  {
   "cell_type": "markdown",
   "metadata": {},
   "source": [
    "## Zadanie 1\n",
    "\n",
    "W zaprezentowanym na ćwiczeniach środowisku <tt>Frozen Lake</tt> zaimplementuj algorytm Monte Carlo Off Policy Learning.\n",
    "\n",
    "## Zadanie 2\n",
    "\n",
    "1. Zmodyfikuj prezentowane na zajęciach kody do algorytmu Monte Carlo On Policy tak aby:\n",
    "    - parametr eksploracji $\\epsilon$ malał liniowo z czasem.\n",
    "    - parametr eksploracji $\\epsilon$ malał wykładniczo z czasem.\n",
    "    - zamiast parametru eksploracji $\\epsilon$ agent wykorzystywał górną granicę ufności.\\\n",
    "2. Dodatkowo wprowadź kryterium stopu takie, że agent przerywa proces uczenia w momencie w którym 100 razy z rzędu dotrze do mety. W tak zmodyfikowanym przykładzie postataraj się tak dobrać parametry aby dla każdej z trzech opcji proces uczenia był możliwie najefektywniejszy. Porównaj czas potrzebny do osiągnięcia rozwiązania optymalnego dla jezior o rozmiarze $n \\in [10,50, 100,200,\\dots,1000]$ z czasem potrzebnym do znalezienie rozwiązania za pomocą programowania dynamicznego dla danego jeziora.\n",
    "\n",
    "## Zadanie 3\n",
    "\n",
    "1. Zmodyfikuj prezentowane na zajęciach kody do algorytmów $SARSA$ i $Q-learning$ tak aby paramert eksploracji $\\epsilon$ malał liniowo z czasem.\n",
    "2. W tak zmodyfikowanym przykładzie postataraj się tak dobrać parametry (stopa uczenia $\\alpha$, długość procesu eksploracji (<i>wypalania</i>)) aby algorytm $SARSA$ zbiegł do rozwiązania optymalnego.\n",
    "\n",
    "\n",
    "## Zadanie 4\n",
    "\n",
    "\n",
    "## Zadanie 5\n",
    "\n",
    "W prezentowanym na zajęciach przykładzie działania algorytmu $DynaQ$:\n",
    "\n",
    "1. Zmodyfikuj estymator modelu tak, aby uwzględniał stochastyczność otoczenia. \n",
    "2. Zaimplementuj algorytm $DynaQ+$. Porównaj oba algorytmy dla stochastycznej wersji środowiska <tt>Frozen Lake</tt>.\n",
    "\n",
    "## Zadanie 6\n",
    "\n",
    "Zmodyfikuj prezentowane rozwiązanie problemu <tt>Mountain Car</tt> tak aby otrzymywana przez agenta przeciętna nagroda na koniec epizodu było możliwie jak najwyższa. Przyjmij, że uczenie trwa przez 10 000 epizodów.\n",
    "\n",
    "<b>Uwaga: Nie modyfikuj nagród otrzymywanych przez agenta!</b>\n",
    "\n",
    "## Zadanie 7\n",
    "\n",
    "Zaimplementuj algorytmy Monte Carlo, REINFORCE i REINFORCE z funkcją bazową w dowolnym prezentowanym na zajęciach środowisku. Przyjmij, że $b(s) = \\hat v(s,\\theta)$. Porównaj wyniki działania algorytmów.\n",
    "\n",
    "\n",
    "## Zadanie 8\n",
    "\n",
    "\n",
    "## Zadanie 9\n",
    "\n",
    "Zaimplementuj algorytm aktora-krytyka w ciągłej wersji środowiska <tt>Mountain Car</tt>."
   ]
  }
 ],
 "metadata": {
  "kernelspec": {
   "display_name": "Julia 1.5.2",
   "language": "julia",
   "name": "julia-1.5"
  },
  "language_info": {
   "file_extension": ".jl",
   "mimetype": "application/julia",
   "name": "julia",
   "version": "1.5.2"
  }
 },
 "nbformat": 4,
 "nbformat_minor": 2
}
