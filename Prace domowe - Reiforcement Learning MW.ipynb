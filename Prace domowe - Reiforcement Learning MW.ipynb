{
 "cells": [
  {
   "cell_type": "markdown",
   "metadata": {},
   "source": [
    "# Prace Domowe - Modelowanie Wieloagentowe "
   ]
  },
  {
   "cell_type": "markdown",
   "metadata": {},
   "source": [
    "Podane są polecenia, w ramach obowiązkowej pracy domowej należy wybrać i wykonać trzy z nich. Pozostałe można traktować jako dodatkowe zadania."
   ]
  },
  {
   "cell_type": "markdown",
   "metadata": {},
   "source": [
    "## Zadanie 1\n",
    "\n",
    "W zaprezentowanym na ćwiczeniach środowisku <tt>Frozen Lake</tt> zaimplementuj algorytm Monte Carlo Off Policy Learning.\n",
    "\n",
    "## Zadanie 2\n",
    "\n",
    "1. Zmodyfikuj prezentowane na zajęciach kody do algorytmu Monte Carlo On Policy tak aby:\n",
    "    - parametr eksploracji $\\epsilon$ malał liniowo z czasem.\n",
    "    - parametr eksploracji $\\epsilon$ malał wykładniczo z czasem.\n",
    "    - zamiast parametru eksploracji $\\epsilon$ agent wykorzystywał górną granicę ufności.\\\n",
    "2. Dodatkowo wprowadź kryterium stopu takie, że agent przerywa proces uczenia w momencie w którym 100 razy z rzędu dotrze do mety. W tak zmodyfikowanym przykładzie postataraj się tak dobrać parametry aby dla każdej z trzech opcji proces uczenia był możliwie najefektywniejszy. Porównaj czas potrzebny do osiągnięcia rozwiązania optymalnego dla jezior o rozmiarze $n \\in [10,50, 100,200,\\dots,1000]$ z czasem potrzebnym do znalezienie rozwiązania za pomocą programowania dynamicznego dla danego jeziora."
   ]
  }
 ],
 "metadata": {
  "kernelspec": {
   "display_name": "Julia 1.5.2",
   "language": "julia",
   "name": "julia-1.5"
  },
  "language_info": {
   "file_extension": ".jl",
   "mimetype": "application/julia",
   "name": "julia",
   "version": "1.5.2"
  }
 },
 "nbformat": 4,
 "nbformat_minor": 2
}
